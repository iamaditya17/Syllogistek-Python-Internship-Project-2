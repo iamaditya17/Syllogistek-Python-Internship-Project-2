{
 "cells": [
  {
   "cell_type": "code",
   "execution_count": null,
   "id": "76378bf1",
   "metadata": {},
   "outputs": [
    {
     "name": "stdout",
     "output_type": "stream",
     "text": [
      "Welcome to Employee System\n",
      "Please Enter Login id:  admin\n",
      "Please Enter Password:  admin\n",
      "Welcome to admin!!\n",
      "Enter 1 to add employee\n",
      "Enter 2 to remove employee\n",
      "Enter 3 to add hr\n",
      "Enter 4 to remove hr\n",
      "Enter q to exit\n",
      "Enter your Option: 1\n",
      "Employee ID - 20beca21\n",
      "Employee Name - Aditya patra\n",
      "Date of Joining - 20-12-2020\n",
      "Designation: fresher\n",
      "Salary: 800000\n",
      "Employee added Successfully\n",
      "Welcome to admin!!\n",
      "Enter 1 to add employee\n",
      "Enter 2 to remove employee\n",
      "Enter 3 to add hr\n",
      "Enter 4 to remove hr\n",
      "Enter q to exit\n",
      "Enter your Option: 3\n",
      "Employee ID - 20beca21\n",
      "HR Department - developing\n",
      "HR Role leader\n",
      "HR added successfully\n",
      "Welcome to admin!!\n",
      "Enter 1 to add employee\n",
      "Enter 2 to remove employee\n",
      "Enter 3 to add hr\n",
      "Enter 4 to remove hr\n",
      "Enter q to exit\n"
     ]
    }
   ],
   "source": [
    "import login"
   ]
  },
  {
   "cell_type": "code",
   "execution_count": null,
   "id": "c9b9d705",
   "metadata": {},
   "outputs": [],
   "source": [
    "%tb"
   ]
  },
  {
   "cell_type": "code",
   "execution_count": null,
   "id": "36c8eb00",
   "metadata": {},
   "outputs": [],
   "source": []
  }
 ],
 "metadata": {
  "kernelspec": {
   "display_name": "Python 3",
   "language": "python",
   "name": "python3"
  },
  "language_info": {
   "codemirror_mode": {
    "name": "ipython",
    "version": 3
   },
   "file_extension": ".py",
   "mimetype": "text/x-python",
   "name": "python",
   "nbconvert_exporter": "python",
   "pygments_lexer": "ipython3",
   "version": "3.8.8"
  }
 },
 "nbformat": 4,
 "nbformat_minor": 5
}
